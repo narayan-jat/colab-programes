{
  "nbformat": 4,
  "nbformat_minor": 0,
  "metadata": {
    "colab": {
      "provenance": [],
      "authorship_tag": "ABX9TyMru26lSQYBAPVHj152w4Pt",
      "include_colab_link": true
    },
    "kernelspec": {
      "name": "python3",
      "display_name": "Python 3"
    },
    "language_info": {
      "name": "python"
    }
  },
  "cells": [
    {
      "cell_type": "markdown",
      "metadata": {
        "id": "view-in-github",
        "colab_type": "text"
      },
      "source": [
        "<a href=\"https://colab.research.google.com/github/narayan-jat/colab-programes/blob/main/Untitled2.ipynb\" target=\"_parent\"><img src=\"https://colab.research.google.com/assets/colab-badge.svg\" alt=\"Open In Colab\"/></a>"
      ]
    },
    {
      "cell_type": "code",
      "execution_count": null,
      "metadata": {
        "id": "wuriOE9qz7Qe"
      },
      "outputs": [],
      "source": [
        "student, subjects = map(int, input().split())\n",
        "listOfMarks = []\n",
        "for i in range(subjects) :\n",
        "    marksOf1subject = list(map(float, input().split()))\n",
        "    listOfMarks.append(marksOf1subject)\n",
        "for i in (zip(*listOfMarks)) :\n",
        "    print(float(sum(i)) / int(subjects))"
      ]
    }
  ]
}